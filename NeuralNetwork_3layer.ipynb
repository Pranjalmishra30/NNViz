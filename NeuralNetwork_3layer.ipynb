{
 "cells": [
  {
   "cell_type": "code",
   "execution_count": 1,
   "metadata": {},
   "outputs": [],
   "source": [
    "%matplotlib inline\n",
    "\n",
    "import tensorflow as tf\n",
    "import numpy as np\n",
    "import matplotlib.pyplot as plt"
   ]
  },
  {
   "cell_type": "code",
   "execution_count": 2,
   "metadata": {},
   "outputs": [],
   "source": [
    "(x_train, y_train), (x_test, y_test) = tf.keras.datasets.mnist.load_data()"
   ]
  },
  {
   "cell_type": "code",
   "execution_count": 4,
   "metadata": {},
   "outputs": [
    {
     "data": {
      "image/png": "[encoded data removed]",
      "text/plain": [
       "<Figure size 720x720 with 9 Axes>"
      ]
     },
     "metadata": {},
     "output_type": "display_data"
    }
   ],
   "source": [
    "# Visualize examples\n",
    "plt.figure(figsize=(10, 10))\n",
    "for i in range(9):\n",
    "    plt.subplot(3, 3, i + 1)\n",
    "    plt.imshow(x_train[i], cmap='binary')\n",
    "    plt.xlabel(str(y_train[i]))\n",
    "    plt.xticks([])\n",
    "    plt.yticks([])\n",
    "plt.show()"
   ]
  },
  {
   "cell_type": "code",
   "execution_count": 5,
   "metadata": {},
   "outputs": [],
   "source": [
    "# Data normalisation\n",
    "x_train = np.reshape(x_train, (60000, 784))\n",
    "x_train = x_train / 255.\n",
    "\n",
    "x_test = np.reshape(x_test, (10000, 784))\n",
    "x_test = x_test / 255."
   ]
  },
  {
   "cell_type": "code",
   "execution_count": 6,
   "metadata": {},
   "outputs": [
    {
     "name": "stderr",
     "output_type": "stream",
     "text": [
      "2022-01-15 13:53:20.091150: I tensorflow/core/platform/cpu_feature_guard.cc:142] This TensorFlow binary is optimized with oneAPI Deep Neural Network Library (oneDNN) to use the following CPU instructions in performance-critical operations:  SSE4.1 SSE4.2 AVX AVX2 FMA\n",
      "To enable them in other operations, rebuild TensorFlow with the appropriate compiler flags.\n"
     ]
    }
   ],
   "source": [
    "model = tf.keras.models.Sequential([\n",
    "    tf.keras.layers.Dense(32, activation='sigmoid', input_shape=(784,)),\n",
    "    tf.keras.layers.Dense(32, activation='sigmoid'),\n",
    "    tf.keras.layers.Dense(10, activation='softmax')\n",
    "])\n",
    "\n",
    "model.compile(loss='sparse_categorical_crossentropy', optimizer='adam', metrics=['accuracy'])"
   ]
  },
  {
   "cell_type": "code",
   "execution_count": 7,
   "metadata": {},
   "outputs": [
    {
     "name": "stderr",
     "output_type": "stream",
     "text": [
      "2022-01-15 13:53:25.314146: W tensorflow/core/framework/cpu_allocator_impl.cc:80] Allocation of 188160000 exceeds 10% of free system memory.\n",
      "2022-01-15 13:53:29.064881: I tensorflow/compiler/mlir/mlir_graph_optimization_pass.cc:116] None of the MLIR optimization passes are enabled (registered 2)\n",
      "2022-01-15 13:53:29.210697: I tensorflow/core/platform/profile_utils/cpu_utils.cc:112] CPU Frequency: 2994530000 Hz\n"
     ]
    },
    {
     "name": "stdout",
     "output_type": "stream",
     "text": [
      "Epoch 1/20\n"
     ]
    },
    {
     "name": "stderr",
     "output_type": "stream",
     "text": [
      "2022-01-15 13:53:31.196643: W tensorflow/core/framework/cpu_allocator_impl.cc:80] Allocation of 31360000 exceeds 10% of free system memory.\n"
     ]
    },
    {
     "name": "stdout",
     "output_type": "stream",
     "text": [
      "59/59 - 2s - loss: 2.1825 - accuracy: 0.4355 - val_loss: 1.9770 - val_accuracy: 0.5693\n",
      "Epoch 2/20\n",
      "59/59 - 0s - loss: 1.7859 - accuracy: 0.6276 - val_loss: 1.5782 - val_accuracy: 0.6955\n",
      "Epoch 3/20\n",
      "59/59 - 0s - loss: 1.4102 - accuracy: 0.7320 - val_loss: 1.2346 - val_accuracy: 0.7780\n",
      "Epoch 4/20\n",
      "59/59 - 0s - loss: 1.1026 - accuracy: 0.8032 - val_loss: 0.9626 - val_accuracy: 0.8324\n",
      "Epoch 5/20\n",
      "59/59 - 0s - loss: 0.8673 - accuracy: 0.8467 - val_loss: 0.7620 - val_accuracy: 0.8619\n",
      "Epoch 6/20\n",
      "59/59 - 0s - loss: 0.6977 - accuracy: 0.8684 - val_loss: 0.6213 - val_accuracy: 0.8785\n",
      "Epoch 7/20\n",
      "59/59 - 0s - loss: 0.5793 - accuracy: 0.8825 - val_loss: 0.5240 - val_accuracy: 0.8909\n",
      "Epoch 8/20\n",
      "59/59 - 0s - loss: 0.4974 - accuracy: 0.8916 - val_loss: 0.4573 - val_accuracy: 0.8987\n",
      "Epoch 9/20\n",
      "59/59 - 0s - loss: 0.4393 - accuracy: 0.8985 - val_loss: 0.4095 - val_accuracy: 0.9050\n",
      "Epoch 10/20\n",
      "59/59 - 0s - loss: 0.3968 - accuracy: 0.9053 - val_loss: 0.3744 - val_accuracy: 0.9097\n",
      "Epoch 11/20\n",
      "59/59 - 0s - loss: 0.3650 - accuracy: 0.9097 - val_loss: 0.3477 - val_accuracy: 0.9137\n",
      "Epoch 12/20\n",
      "59/59 - 0s - loss: 0.3395 - accuracy: 0.9146 - val_loss: 0.3264 - val_accuracy: 0.9161\n",
      "Epoch 13/20\n",
      "59/59 - 0s - loss: 0.3188 - accuracy: 0.9181 - val_loss: 0.3092 - val_accuracy: 0.9205\n",
      "Epoch 14/20\n",
      "59/59 - 0s - loss: 0.3014 - accuracy: 0.9217 - val_loss: 0.2952 - val_accuracy: 0.9228\n",
      "Epoch 15/20\n",
      "59/59 - 0s - loss: 0.2864 - accuracy: 0.9248 - val_loss: 0.2810 - val_accuracy: 0.9253\n",
      "Epoch 16/20\n",
      "59/59 - 0s - loss: 0.2731 - accuracy: 0.9272 - val_loss: 0.2708 - val_accuracy: 0.9278\n",
      "Epoch 17/20\n",
      "59/59 - 0s - loss: 0.2614 - accuracy: 0.9297 - val_loss: 0.2610 - val_accuracy: 0.9296\n",
      "Epoch 18/20\n",
      "59/59 - 0s - loss: 0.2508 - accuracy: 0.9321 - val_loss: 0.2518 - val_accuracy: 0.9311\n",
      "Epoch 19/20\n",
      "59/59 - 0s - loss: 0.2414 - accuracy: 0.9341 - val_loss: 0.2436 - val_accuracy: 0.9330\n",
      "Epoch 20/20\n",
      "59/59 - 0s - loss: 0.2324 - accuracy: 0.9368 - val_loss: 0.2355 - val_accuracy: 0.9352\n"
     ]
    }
   ],
   "source": [
    "_ = model.fit(\n",
    "    x_train, y_train,\n",
    "    validation_data=(x_test, y_test),\n",
    "    epochs=20, batch_size=1024,\n",
    "    verbose=2\n",
    ")"
   ]
  },
  {
   "cell_type": "code",
   "execution_count": 8,
   "metadata": {},
   "outputs": [],
   "source": [
    "model.save('Basic_model.h5')"
   ]
  }
 ],
 "metadata": {
  "interpreter": {
   "hash": "8742644c22c876562c99841ba51be919929a10046c3662c82af20b0ed8bc367e"
  },
  "kernelspec": {
   "display_name": "ML_env",
   "language": "python",
   "name": "python3"
  },
  "language_info": {
   "codemirror_mode": {
    "name": "ipython",
    "version": 3
   },
   "file_extension": ".py",
   "mimetype": "text/x-python",
   "name": "python",
   "nbconvert_exporter": "python",
   "pygments_lexer": "ipython3",
   "version": "3.9.7"
  }
 },
 "nbformat": 4,
 "nbformat_minor": 4
}
